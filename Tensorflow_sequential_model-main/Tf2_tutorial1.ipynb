{
  "nbformat": 4,
  "nbformat_minor": 0,
  "metadata": {
    "colab": {
      "name": "Tf2_tutorial1.ipynb",
      "provenance": [],
      "collapsed_sections": [],
      "include_colab_link": true
    },
    "kernelspec": {
      "name": "python3",
      "display_name": "Python 3"
    }
  },
  "cells": [
    {
      "cell_type": "markdown",
      "metadata": {
        "id": "view-in-github",
        "colab_type": "text"
      },
      "source": [
        "<a href=\"https://colab.research.google.com/github/Saguirre9911/Tensorflow_sequential_model/blob/main/Tf2_tutorial1.ipynb\" target=\"_parent\"><img src=\"https://colab.research.google.com/assets/colab-badge.svg\" alt=\"Open In Colab\"/></a>"
      ]
    },
    {
      "cell_type": "markdown",
      "metadata": {
        "id": "PR-O2rBfkuy9"
      },
      "source": [
        "***\n",
        "<a id=\"coding_tutorial_1\"></a>\n",
        "# Tensorflow para principiantes en Español, KERAS Sequential model\n",
        "## PAL INGENIERO 2020\n",
        "\n"
      ]
    },
    {
      "cell_type": "code",
      "metadata": {
        "id": "er2yEXRchUTI",
        "colab": {
          "base_uri": "https://localhost:8080/"
        },
        "outputId": "a3c684b5-96be-4d40-98b2-604b644beffd"
      },
      "source": [
        "#Importar tensorflow \n",
        "import tensorflow as tf\n",
        "print(tf.__version__)"
      ],
      "execution_count": null,
      "outputs": [
        {
          "output_type": "stream",
          "text": [
            "2.3.0\n"
          ],
          "name": "stdout"
        }
      ]
    },
    {
      "cell_type": "markdown",
      "metadata": {
        "id": "c97qYoWao-yR"
      },
      "source": [
        "#PASO 1, Construir el modelo"
      ]
    },
    {
      "cell_type": "code",
      "metadata": {
        "id": "GyqY6JYUj49r"
      },
      "source": [
        "#Se importan el modelo secuencial y las primeras capas a utilizar\n",
        "from tensorflow.keras.models import Sequential\n",
        "from tensorflow.keras.layers import Dense, Flatten, Softmax"
      ],
      "execution_count": null,
      "outputs": []
    },
    {
      "cell_type": "markdown",
      "metadata": {
        "id": "kyQNaYAqljEY"
      },
      "source": [
        "#### Ejemplo de la construcción de una feedfoward neural network con el modelo secuencial\n",
        "\n"
      ]
    },
    {
      "cell_type": "code",
      "metadata": {
        "id": "C70qmmz7il69",
        "colab": {
          "base_uri": "https://localhost:8080/"
        },
        "outputId": "d6db2eb5-809a-4624-a9b2-a2fd582da7de"
      },
      "source": [
        "#Se crea la red neuronal y se imprime el resumen para ver las capas creadas\n",
        "\n",
        "MLP = Sequential([\n",
        "    Flatten(input_shape=(28,28),name='input_layer'), #En la primera capa se debe agrear el tamaño de la entrada\n",
        "    Dense(32, activation='relu',name='Segunda_capa'), #Capa Densa, con 16 unidades, función de activación Relu, se llama layer 1\n",
        "    Dense(32, activation='relu'),\n",
        "    Dense(10),\n",
        "    Softmax()\n",
        "])\n",
        "MLP.summary()"
      ],
      "execution_count": null,
      "outputs": [
        {
          "output_type": "stream",
          "text": [
            "Model: \"sequential_3\"\n",
            "_________________________________________________________________\n",
            "Layer (type)                 Output Shape              Param #   \n",
            "=================================================================\n",
            "input_layer (Flatten)        (None, 784)               0         \n",
            "_________________________________________________________________\n",
            "Segunda_capa (Dense)         (None, 32)                25120     \n",
            "_________________________________________________________________\n",
            "dense_5 (Dense)              (None, 32)                1056      \n",
            "_________________________________________________________________\n",
            "dense_6 (Dense)              (None, 10)                330       \n",
            "_________________________________________________________________\n",
            "softmax_2 (Softmax)          (None, 10)                0         \n",
            "=================================================================\n",
            "Total params: 26,506\n",
            "Trainable params: 26,506\n",
            "Non-trainable params: 0\n",
            "_________________________________________________________________\n"
          ],
          "name": "stdout"
        }
      ]
    },
    {
      "cell_type": "markdown",
      "metadata": {
        "id": "Kh41MymdoVme"
      },
      "source": [
        "#### Creación  de una CNN con tensorflow 2.0"
      ]
    },
    {
      "cell_type": "code",
      "metadata": {
        "colab": {
          "base_uri": "https://localhost:8080/"
        },
        "id": "y3k68SU7n6A5",
        "outputId": "0abe56e2-1eb3-4104-a207-181edd0da8ad"
      },
      "source": [
        "from tensorflow.keras.layers import Conv2D, MaxPooling2D # se importan las capas a utilizar para la CNN y se muestra su resumen\n",
        "CNN = Sequential([\n",
        "    Conv2D(16,(3,3), activation='relu',input_shape=(28,28,1),padding='same'), # Capa de convolución(Numero de filtros, tamaño del filtro, función de activación, tamaño de entrada)\n",
        "    MaxPooling2D((3,3)), #Poopling layer (tamaño del kernel)\n",
        "    Flatten(), #Vuelve los datos en un vector #1D\n",
        "    Dense(10,activation='softmax') #En la ultima capa van en numero de clases\n",
        "])\n",
        "CNN.summary()"
      ],
      "execution_count": null,
      "outputs": [
        {
          "output_type": "stream",
          "text": [
            "Model: \"sequential_1\"\n",
            "_________________________________________________________________\n",
            "Layer (type)                 Output Shape              Param #   \n",
            "=================================================================\n",
            "conv2d (Conv2D)              (None, 28, 28, 16)        160       \n",
            "_________________________________________________________________\n",
            "max_pooling2d (MaxPooling2D) (None, 9, 9, 16)          0         \n",
            "_________________________________________________________________\n",
            "flatten_1 (Flatten)          (None, 1296)              0         \n",
            "_________________________________________________________________\n",
            "dense_2 (Dense)              (None, 10)                12970     \n",
            "=================================================================\n",
            "Total params: 13,130\n",
            "Trainable params: 13,130\n",
            "Non-trainable params: 0\n",
            "_________________________________________________________________\n"
          ],
          "name": "stdout"
        }
      ]
    },
    {
      "cell_type": "markdown",
      "metadata": {
        "id": "K15XsFsvn8fC"
      },
      "source": [
        "#PASO 2\n",
        "## Método Compile \n",
        "###Primera sintaxis"
      ]
    },
    {
      "cell_type": "code",
      "metadata": {
        "colab": {
          "base_uri": "https://localhost:8080/"
        },
        "id": "a9DXaM2co8NA",
        "outputId": "413ef978-396d-4a54-f79a-1b128f6350a8"
      },
      "source": [
        "#Se deben definir Optimizador, función de perdida y metricas de evaluación\n",
        "\n",
        "opt=tf.keras.optimizers.Adam(learning_rate=0.005) #Con esta sintaxis se pueden enviar parametros de la documentación\n",
        "acc=tf.keras.metrics.SparseCategoricalAccuracy() #Sintaxis tomada de la documentación de tf \n",
        "mae=tf.keras.metrics.MeanAbsoluteError()\n",
        "lost=tf.keras.losses.CategoricalCrossentropy()\n",
        "#Siempre se define en compile: el optimizador, la función de perdidas, y las metricas\n",
        "MLP.compile(optimizer=opt, \n",
        "             loss='sparse_categorical_crossentropy',\n",
        "             metrics=[acc,mae])\n",
        "\n",
        "print(MLP.loss)\n",
        "print(MLP.optimizer)"
      ],
      "execution_count": null,
      "outputs": [
        {
          "output_type": "stream",
          "text": [
            "sparse_categorical_crossentropy\n",
            "<tensorflow.python.keras.optimizer_v2.adam.Adam object at 0x7fbd82a8ba20>\n"
          ],
          "name": "stdout"
        }
      ]
    },
    {
      "cell_type": "markdown",
      "metadata": {
        "id": "3ag0M4p1p_KZ"
      },
      "source": [
        "###Segunda sintaxis"
      ]
    },
    {
      "cell_type": "code",
      "metadata": {
        "colab": {
          "base_uri": "https://localhost:8080/"
        },
        "id": "EggwCwn1qBZn",
        "outputId": "342beb10-dd33-4480-ad5a-94aebb57a3b7"
      },
      "source": [
        "CNN.compile(optimizer='adam',\n",
        "             loss='sparse_categorical_crossentropy',\n",
        "             metrics=['accuracy','mae'])\n",
        "print(CNN.loss)\n",
        "print(CNN.optimizer)"
      ],
      "execution_count": null,
      "outputs": [
        {
          "output_type": "stream",
          "text": [
            "sparse_categorical_crossentropy\n",
            "<tensorflow.python.keras.optimizer_v2.adam.Adam object at 0x7fbdbce451d0>\n"
          ],
          "name": "stdout"
        }
      ]
    },
    {
      "cell_type": "markdown",
      "metadata": {
        "id": "DDkjTaNrrLWR"
      },
      "source": [
        "#PASO 3.\n",
        "##Método Fit"
      ]
    },
    {
      "cell_type": "code",
      "metadata": {
        "colab": {
          "base_uri": "https://localhost:8080/",
          "height": 418
        },
        "id": "f8ZEnMlqswxy",
        "outputId": "459ef48d-853c-4dcb-848f-bae536600265"
      },
      "source": [
        "from tensorflow.keras.preprocessing import image\n",
        "import matplotlib.pyplot as plt\n",
        "import numpy as np\n",
        "import pandas as pd\n",
        "\n",
        "#Se hará uso del dataset minist\n",
        "fashion_mnist_data = tf.keras.datasets.fashion_mnist\n",
        "(train_images, train_labels), (test_images, test_labels) = fashion_mnist_data.load_data()\n",
        "\n",
        "labels = [\n",
        "    'T-shirt/top',\n",
        "    'Trouser',\n",
        "    'Pullover',\n",
        "    'Dress',\n",
        "    'Coat',\n",
        "    'Sandal',\n",
        "    'Shirt',\n",
        "    'Sneaker',\n",
        "    'Bag',\n",
        "    'Ankle boot'\n",
        "]\n",
        "\n",
        "train_images = train_images/255.\n",
        "test_images = test_images/255.\n",
        "\n",
        "\n",
        "i=0\n",
        "img=train_images[i,:,:]\n",
        "plt.imshow(img)\n",
        "plt.show()\n",
        "print(f\"label: {labels[train_labels[i]]}\")\n",
        "\n"
      ],
      "execution_count": null,
      "outputs": [
        {
          "output_type": "stream",
          "text": [
            "Downloading data from https://storage.googleapis.com/tensorflow/tf-keras-datasets/train-labels-idx1-ubyte.gz\n",
            "32768/29515 [=================================] - 0s 0us/step\n",
            "Downloading data from https://storage.googleapis.com/tensorflow/tf-keras-datasets/train-images-idx3-ubyte.gz\n",
            "26427392/26421880 [==============================] - 0s 0us/step\n",
            "Downloading data from https://storage.googleapis.com/tensorflow/tf-keras-datasets/t10k-labels-idx1-ubyte.gz\n",
            "8192/5148 [===============================================] - 0s 0us/step\n",
            "Downloading data from https://storage.googleapis.com/tensorflow/tf-keras-datasets/t10k-images-idx3-ubyte.gz\n",
            "4423680/4422102 [==============================] - 0s 0us/step\n"
          ],
          "name": "stdout"
        },
        {
          "output_type": "display_data",
          "data": {
            "image/png": "[encoded data removed]",
            "text/plain": [
              "<Figure size 432x288 with 1 Axes>"
            ]
          },
          "metadata": {
            "tags": [],
            "needs_background": "light"
          }
        },
        {
          "output_type": "stream",
          "text": [
            "label: Ankle boot\n"
          ],
          "name": "stdout"
        }
      ]
    },
    {
      "cell_type": "code",
      "metadata": {
        "colab": {
          "base_uri": "https://localhost:8080/"
        },
        "id": "ul3Go33HtQBo",
        "outputId": "ad5c4e12-e503-488c-8661-fd520e1420be"
      },
      "source": [
        "history=CNN.fit(train_images[...,np.newaxis],train_labels, epochs=4,batch_size=256,verbose=2) #Para el metodo fit(imagenes o datos de entrenamiento, las etiquetas respectivas, el numero de epocas, batch_size,\n",
        "#Verbose para ver o no el proceso del entrenamiento)"
      ],
      "execution_count": null,
      "outputs": [
        {
          "output_type": "stream",
          "text": [
            "Epoch 1/4\n",
            "235/235 - 14s - loss: 0.8058 - accuracy: 0.7345 - mae: 4.4200\n",
            "Epoch 2/4\n",
            "235/235 - 15s - loss: 0.4709 - accuracy: 0.8384 - mae: 4.4200\n",
            "Epoch 3/4\n",
            "235/235 - 15s - loss: 0.4125 - accuracy: 0.8577 - mae: 4.4200\n",
            "Epoch 4/4\n",
            "235/235 - 14s - loss: 0.3832 - accuracy: 0.8670 - mae: 4.4200\n"
          ],
          "name": "stdout"
        }
      ]
    },
    {
      "cell_type": "code",
      "metadata": {
        "colab": {
          "base_uri": "https://localhost:8080/",
          "height": 173
        },
        "id": "cOVlTLPstWPa",
        "outputId": "123e7d97-7b3f-4566-8be1-37f7a049ecc3"
      },
      "source": [
        "#Mostrando los resultados de entrenamiento, en la variable history se almacenó un dataframe, por eso se usó pandas\n",
        "df= pd.DataFrame(history.history)\n",
        "df.head()"
      ],
      "execution_count": null,
      "outputs": [
        {
          "output_type": "execute_result",
          "data": {
            "text/html": [
              "<div>\n",
              "<style scoped>\n",
              "    .dataframe tbody tr th:only-of-type {\n",
              "        vertical-align: middle;\n",
              "    }\n",
              "\n",
              "    .dataframe tbody tr th {\n",
              "        vertical-align: top;\n",
              "    }\n",
              "\n",
              "    .dataframe thead th {\n",
              "        text-align: right;\n",
              "    }\n",
              "</style>\n",
              "<table border=\"1\" class=\"dataframe\">\n",
              "  <thead>\n",
              "    <tr style=\"text-align: right;\">\n",
              "      <th></th>\n",
              "      <th>loss</th>\n",
              "      <th>accuracy</th>\n",
              "      <th>mae</th>\n",
              "    </tr>\n",
              "  </thead>\n",
              "  <tbody>\n",
              "    <tr>\n",
              "      <th>0</th>\n",
              "      <td>0.805830</td>\n",
              "      <td>0.734467</td>\n",
              "      <td>4.420001</td>\n",
              "    </tr>\n",
              "    <tr>\n",
              "      <th>1</th>\n",
              "      <td>0.470930</td>\n",
              "      <td>0.838433</td>\n",
              "      <td>4.420000</td>\n",
              "    </tr>\n",
              "    <tr>\n",
              "      <th>2</th>\n",
              "      <td>0.412468</td>\n",
              "      <td>0.857700</td>\n",
              "      <td>4.420001</td>\n",
              "    </tr>\n",
              "    <tr>\n",
              "      <th>3</th>\n",
              "      <td>0.383219</td>\n",
              "      <td>0.867033</td>\n",
              "      <td>4.419999</td>\n",
              "    </tr>\n",
              "  </tbody>\n",
              "</table>\n",
              "</div>"
            ],
            "text/plain": [
              "       loss  accuracy       mae\n",
              "0  0.805830  0.734467  4.420001\n",
              "1  0.470930  0.838433  4.420000\n",
              "2  0.412468  0.857700  4.420001\n",
              "3  0.383219  0.867033  4.419999"
            ]
          },
          "metadata": {
            "tags": []
          },
          "execution_count": 12
        }
      ]
    },
    {
      "cell_type": "code",
      "metadata": {
        "colab": {
          "base_uri": "https://localhost:8080/",
          "height": 809
        },
        "id": "DglM1rcitttf",
        "outputId": "0044f5b4-4bc2-4c0d-e253-8104b512d98d"
      },
      "source": [
        "acc_plot=df.plot(y='loss',title='loss vs epochs',legend=False)\n",
        "acc_plot=df.plot(y='accuracy',title='acc vs epochs',legend=False)\n",
        "acc_plot=df.plot(y='mae',title='mae vs epochs',legend=False)"
      ],
      "execution_count": null,
      "outputs": [
        {
          "output_type": "display_data",
          "data": {
            "image/png": "[encoded data removed]",
            "text/plain": [
              "<Figure size 432x288 with 1 Axes>"
            ]
          },
          "metadata": {
            "tags": [],
            "needs_background": "light"
          }
        },
        {
          "output_type": "display_data",
          "data": {
            "image/png": "[encoded data removed]",
            "text/plain": [
              "<Figure size 432x288 with 1 Axes>"
            ]
          },
          "metadata": {
            "tags": [],
            "needs_background": "light"
          }
        },
        {
          "output_type": "display_data",
          "data": {
            "image/png": "[encoded data removed]",
            "text/plain": [
              "<Figure size 432x288 with 1 Axes>"
            ]
          },
          "metadata": {
            "tags": [],
            "needs_background": "light"
          }
        }
      ]
    },
    {
      "cell_type": "markdown",
      "metadata": {
        "id": "EJ8pHfNTt7cf"
      },
      "source": [
        "#Paso 4, evaluar el modelo"
      ]
    },
    {
      "cell_type": "code",
      "metadata": {
        "id": "MNKtDrekjNZi"
      },
      "source": [
        "import matplotlib.pyplot as plt\n",
        "import numpy as np"
      ],
      "execution_count": null,
      "outputs": []
    },
    {
      "cell_type": "code",
      "metadata": {
        "id": "7DkCzLGZjPYN"
      },
      "source": [
        "test_loss, test_acc, test_mae= CNN.evaluate(test_images[...,np.newaxis],test_labels, verbose=2)"
      ],
      "execution_count": null,
      "outputs": []
    },
    {
      "cell_type": "code",
      "metadata": {
        "id": "Cmq1g43njRGL"
      },
      "source": [
        "random_inx = np.random.choice(test_images.shape[0])\n",
        "\n",
        "test_image = test_images[random_inx]\n",
        "plt.imshow(test_image)\n",
        "plt.show()\n",
        "print(f\"Label: {labels[test_labels[random_inx]]}\")\n",
        "test_image.shape"
      ],
      "execution_count": null,
      "outputs": []
    },
    {
      "cell_type": "markdown",
      "metadata": {
        "id": "qcGchmNMjaCr"
      },
      "source": [
        "## El modelo genera 9 predicciones y escoge el máximo entre las mismas. "
      ]
    },
    {
      "cell_type": "code",
      "metadata": {
        "id": "Fy91bE0IjTJ_"
      },
      "source": [
        "predictions=CNN.predict(test_image[np.newaxis,...,np.newaxis])\n",
        "print(f\"Model prediction:{labels[np.argmax(predictions)]}\")\n",
        "predictions \n"
      ],
      "execution_count": null,
      "outputs": []
    }
  ]
}