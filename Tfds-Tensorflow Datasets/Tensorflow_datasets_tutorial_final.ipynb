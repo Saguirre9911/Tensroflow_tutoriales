{
  "nbformat": 4,
  "nbformat_minor": 0,
  "metadata": {
    "colab": {
      "name": "Tensorflow_datasets_tutorial_final.ipynb",
      "provenance": [],
      "authorship_tag": "ABX9TyOtP63NJNQVNvHpXbbG++Ka",
      "include_colab_link": true
    },
    "kernelspec": {
      "name": "python3",
      "display_name": "Python 3"
    },
    "accelerator": "GPU"
  },
  "cells": [
    {
      "cell_type": "markdown",
      "metadata": {
        "id": "view-in-github",
        "colab_type": "text"
      },
      "source": [
        "<a href=\"https://colab.research.google.com/github/Saguirre9911/Tensroflow_tutoriales/blob/main/Tfds-Tensorflow%20Datasets/Tensorflow_datasets_tutorial_final.ipynb\" target=\"_parent\"><img src=\"https://colab.research.google.com/assets/colab-badge.svg\" alt=\"Open In Colab\"/></a>"
      ]
    },
    {
      "cell_type": "markdown",
      "metadata": {
        "id": "5BLXeEIbPVUg"
      },
      "source": [
        "# PAL INGENIERO 2021\r\n",
        "## Clasificador de imagenes tensorflow 2.*\r\n",
        "\r\n",
        "Hola a todos, en este nootebook explicaremos como crear una CNN para la clasificación de enfermedades en plantas usando el dataset plant_village que viene con tensorflow\r\n",
        "\r\n",
        "\r\n",
        "## Canal PAL INGENIERO\r\n",
        "https://www.youtube.com/channel/UCTL8_Xr6vzTmCU2h3reHgPw\r\n",
        "\r\n",
        "## Repositorio del notebook\r\n",
        "\r\n"
      ]
    },
    {
      "cell_type": "code",
      "metadata": {
        "id": "oUI3A61ZPdom"
      },
      "source": [
        "#Librerias a utilizar\r\n",
        "import tensorflow as tf\r\n",
        "import pandas as pd\r\n",
        "import numpy as np\r\n",
        "import matplotlib.pyplot as plt\r\n",
        "from tensorflow.keras.models import Sequential\r\n",
        "from tensorflow.keras.layers import Dense, Conv2D, Flatten, MaxPool2D\r\n",
        "import tensorflow_datasets as tfds\r\n",
        "from tensorflow import keras\r\n",
        "%matplotlib inline"
      ],
      "execution_count": 1,
      "outputs": []
    },
    {
      "cell_type": "markdown",
      "metadata": {
        "id": "tLmR_5FlXAL3"
      },
      "source": [
        "# CARGAR DATASET CON TFDS"
      ]
    },
    {
      "cell_type": "code",
      "metadata": {
        "colab": {
          "base_uri": "https://localhost:8080/"
        },
        "id": "5XS8gjeMPfFo",
        "outputId": "6c4ef1a7-bc81-44c8-b195-f05bf73127b4"
      },
      "source": [
        "(ds_train,ds_test), ds_info = tfds.load(\r\n",
        "    'mnist',#Nombre del set de datos\r\n",
        "     split=['train','test'], #las opciones pueden variar, algunos tienen solo trainset, otros train, val y test set\r\n",
        "      with_info=True, #Guardamos en una variable la información del dataset\r\n",
        "      as_supervised=True, #generamos el dataset en tuplas, (imagen,etiqueta)\r\n",
        "      shuffle_files=True) #Revolvemos el dataset\r\n",
        "ds_info"
      ],
      "execution_count": 2,
      "outputs": [
        {
          "output_type": "execute_result",
          "data": {
            "text/plain": [
              "tfds.core.DatasetInfo(\n",
              "    name='mnist',\n",
              "    version=3.0.1,\n",
              "    description='The MNIST database of handwritten digits.',\n",
              "    homepage='http://yann.lecun.com/exdb/mnist/',\n",
              "    features=FeaturesDict({\n",
              "        'image': Image(shape=(28, 28, 1), dtype=tf.uint8),\n",
              "        'label': ClassLabel(shape=(), dtype=tf.int64, num_classes=10),\n",
              "    }),\n",
              "    total_num_examples=70000,\n",
              "    splits={\n",
              "        'test': 10000,\n",
              "        'train': 60000,\n",
              "    },\n",
              "    supervised_keys=('image', 'label'),\n",
              "    citation=\"\"\"@article{lecun2010mnist,\n",
              "      title={MNIST handwritten digit database},\n",
              "      author={LeCun, Yann and Cortes, Corinna and Burges, CJ},\n",
              "      journal={ATT Labs [Online]. Available: http://yann.lecun.com/exdb/mnist},\n",
              "      volume={2},\n",
              "      year={2010}\n",
              "    }\"\"\",\n",
              "    redistribution_info=,\n",
              ")"
            ]
          },
          "metadata": {
            "tags": []
          },
          "execution_count": 2
        }
      ]
    },
    {
      "cell_type": "markdown",
      "metadata": {
        "id": "IsNuhyXPXEjH"
      },
      "source": [
        "# Procesamiento necesario para utilizar el dataset"
      ]
    },
    {
      "cell_type": "code",
      "metadata": {
        "id": "0F_KapVePknH"
      },
      "source": [
        "def normalizar_datos(image, label):\r\n",
        "  \"\"\"Normalizes images: `uint8` -> `float32`.\"\"\"\r\n",
        "  return tf.cast(image, tf.float32) / 255., label\r\n",
        "BATCH_SIZE=64\r\n",
        "#PARA EL SET DE ENTRENAMIENTO\r\n",
        "ds_train = ds_train.map(normalizar_datos)# Normalizar los datos, pasa de 0-255 a 0-1\r\n",
        "ds_train = ds_train.cache()#Cacheamos el set de datos para que las iteraciones tomen menos tiempo\r\n",
        "ds_train = ds_train.shuffle(ds_info.splits['train'].num_examples)#Se mezclan aleatoriamente, el buffer_size debe ser de la cantidad de datos del dataset para que sea efectivo\r\n",
        "ds_train = ds_train.batch(BATCH_SIZE)# agrupamos en lotes de 64 el dataset #IMPORTANTE\r\n",
        "ds_train = ds_train.prefetch(tf.data.experimental.AUTOTUNE) #PRECARGAMOS EL DATASET PARA SU USO #MÁS IMPORTANTE, sin esto, no se podrá usar el dataset\r\n",
        "#PARA EL SET DE PRUEBA\r\n",
        "ds_test= ds_test.map(normalizar_datos)# Normalizar los datos, pasa de 0-255 a 0-1\r\n",
        "ds_test_min=ds_test\r\n",
        "ds_test = ds_test.batch(BATCH_SIZE)# agrupamos en lotes de 64 el dataset #IMPORTANTE\r\n",
        "ds_test = ds_test.prefetch(tf.data.experimental.AUTOTUNE) #PRECARGAMOS EL DATASET PARA SU USO #MÁS IMPORTANTE, sin esto, no se podrá usar el dataset\r\n"
      ],
      "execution_count": 3,
      "outputs": []
    },
    {
      "cell_type": "markdown",
      "metadata": {
        "id": "cm4mv4niXK43"
      },
      "source": [
        "## Adquirimos el tamaño de las imagenes para la capa de entrada de la CNN"
      ]
    },
    {
      "cell_type": "code",
      "metadata": {
        "colab": {
          "base_uri": "https://localhost:8080/"
        },
        "id": "8ZI-umD5RvKX",
        "outputId": "238c6cad-3b22-4163-bf4b-ae7ede5e0303"
      },
      "source": [
        "ds = tfds.load('mnist', split='train')\r\n",
        "ds = ds.take(1)  # tomamos solo un dato\r\n",
        "\r\n",
        "for example in ds:  # example es `{'image': tf.Tensor, 'label': tf.Tensor}`\r\n",
        "  print(list(example.keys()))\r\n",
        "  image = example[\"image\"]\r\n",
        "  input_shape= image.shape\r\n",
        "  label = example[\"label\"]\r\n",
        "  print(input_shape, label)\r\n"
      ],
      "execution_count": 4,
      "outputs": [
        {
          "output_type": "stream",
          "text": [
            "['image', 'label']\n",
            "(28, 28, 1) tf.Tensor(4, shape=(), dtype=int64)\n"
          ],
          "name": "stdout"
        }
      ]
    },
    {
      "cell_type": "markdown",
      "metadata": {
        "id": "JB3sWxULXTcO"
      },
      "source": [
        "# Construcción del modelo con Sequential API\r\n",
        "\r\n",
        "### Tutorial PAL INGENIERO\r\n",
        "https://www.youtube.com/watch?v=dMHxECuxgyg&list=PLeu9kmTazPwybTtzTe_mBH18BbIELn083 "
      ]
    },
    {
      "cell_type": "code",
      "metadata": {
        "colab": {
          "base_uri": "https://localhost:8080/"
        },
        "id": "0e5pZcVrRC5S",
        "outputId": "cf1cf367-f901-434c-d9f7-284a982ef848"
      },
      "source": [
        "def get_model(input_shape):\r\n",
        "    \"\"\"\r\n",
        "    Creamos una CNN por medio de la API Sequencial, en este link se puede encontrar\r\n",
        "    3 tutoriales hechos por nosotros al respecto, donde vemos la creación del modelo\r\n",
        "    el método compile y el método fit https://www.youtube.com/watch?v=dMHxECuxgyg&list=PLeu9kmTazPwybTtzTe_mBH18BbIELn083\r\n",
        "    \r\n",
        "    \"\"\"\r\n",
        "\r\n",
        "    model = Sequential([\r\n",
        "                    tf.keras.Input(input_shape),\r\n",
        "                    Conv2D(filters=8, kernel_size=3, padding='same', activation= 'relu'),\r\n",
        "                    MaxPool2D((2,2)),\r\n",
        "                    Flatten(),\r\n",
        "                    Dense(64, activation='relu'),\r\n",
        "                    Dense(64, activation='relu'),\r\n",
        "                    Dense(10, activation='softmax')\r\n",
        "\r\n",
        "    ])\r\n",
        "    return model\r\n",
        "model = get_model(input_shape)\r\n",
        "model.summary()"
      ],
      "execution_count": 5,
      "outputs": [
        {
          "output_type": "stream",
          "text": [
            "Model: \"sequential\"\n",
            "_________________________________________________________________\n",
            "Layer (type)                 Output Shape              Param #   \n",
            "=================================================================\n",
            "conv2d (Conv2D)              (None, 28, 28, 8)         80        \n",
            "_________________________________________________________________\n",
            "max_pooling2d (MaxPooling2D) (None, 14, 14, 8)         0         \n",
            "_________________________________________________________________\n",
            "flatten (Flatten)            (None, 1568)              0         \n",
            "_________________________________________________________________\n",
            "dense (Dense)                (None, 64)                100416    \n",
            "_________________________________________________________________\n",
            "dense_1 (Dense)              (None, 64)                4160      \n",
            "_________________________________________________________________\n",
            "dense_2 (Dense)              (None, 10)                650       \n",
            "=================================================================\n",
            "Total params: 105,306\n",
            "Trainable params: 105,306\n",
            "Non-trainable params: 0\n",
            "_________________________________________________________________\n"
          ],
          "name": "stdout"
        }
      ]
    },
    {
      "cell_type": "code",
      "metadata": {
        "id": "V9tg_JL4RuJ6"
      },
      "source": [
        "def compile_model(model):\r\n",
        "    \"\"\"\r\n",
        "    Compilamos el modelo con el método compile, en este link se puede encontrar\r\n",
        "    3 tutoriales hechos por nosotros al respecto, donde vemos la creación del modelo\r\n",
        "    el método compile y el método fit https://www.youtube.com/watch?v=dMHxECuxgyg&list=PLeu9kmTazPwybTtzTe_mBH18BbIELn083\r\n",
        "    \"\"\"\r\n",
        "    model.compile(\r\n",
        "        optimizer='adam',\r\n",
        "        loss = keras.losses.SparseCategoricalCrossentropy(),\r\n",
        "        metrics=['accuracy']\r\n",
        "    )\r\n",
        "compile_model(model)"
      ],
      "execution_count": 6,
      "outputs": []
    },
    {
      "cell_type": "code",
      "metadata": {
        "colab": {
          "base_uri": "https://localhost:8080/"
        },
        "id": "4bxicm1kSmR1",
        "outputId": "441aa82b-dbf5-4643-9212-5df095692f1e"
      },
      "source": [
        "def train_model(model, train_dataset):\r\n",
        "    \"\"\"\r\n",
        "    Entrenamos el modelo con el método fit, en este link se puede encontrar\r\n",
        "    3 tutoriales hechos por nosotros al respecto, donde vemos la creación del modelo\r\n",
        "    el método compile y el método fit https://www.youtube.com/watch?v=dMHxECuxgyg&list=PLeu9kmTazPwybTtzTe_mBH18BbIELn083\r\n",
        "    \"\"\"\r\n",
        "    history = model.fit(train_dataset, epochs=5, batch_size=BATCH_SIZE)\r\n",
        "    return history\r\n",
        "\r\n",
        "history = model.fit(ds_train, epochs=5,verbose=2)"
      ],
      "execution_count": 7,
      "outputs": [
        {
          "output_type": "stream",
          "text": [
            "Epoch 1/5\n",
            "938/938 - 7s - loss: 0.2525 - accuracy: 0.9274\n",
            "Epoch 2/5\n",
            "938/938 - 2s - loss: 0.0797 - accuracy: 0.9762\n",
            "Epoch 3/5\n",
            "938/938 - 2s - loss: 0.0574 - accuracy: 0.9822\n",
            "Epoch 4/5\n",
            "938/938 - 2s - loss: 0.0454 - accuracy: 0.9861\n",
            "Epoch 5/5\n",
            "938/938 - 2s - loss: 0.0359 - accuracy: 0.9886\n"
          ],
          "name": "stdout"
        }
      ]
    },
    {
      "cell_type": "markdown",
      "metadata": {
        "id": "jK5Om1LlXeFG"
      },
      "source": [
        "## Prueba de funcioanamiento"
      ]
    },
    {
      "cell_type": "code",
      "metadata": {
        "colab": {
          "base_uri": "https://localhost:8080/",
          "height": 1000
        },
        "id": "wcqHb_x5SvAP",
        "outputId": "c5a12cfa-0956-4455-d9a9-195498dda9b8"
      },
      "source": [
        "ds_test_min = ds_test_min.take(10)\r\n",
        "\r\n",
        "for example in ds_test_min:  # example is `{'image': tf.Tensor, 'label': tf.Tensor}`\r\n",
        "  image = example[0]\r\n",
        "  label = example[1]\r\n",
        "  #print(image.shape, label)\r\n",
        "  predictions = model.predict(image[np.newaxis, ...])\r\n",
        "  plt.imshow(tf.squeeze(image))\r\n",
        "  print(np.argmax(predictions))\r\n",
        "  plt.title(f\"Predicción del modelo: {np.argmax(predictions)}\")\r\n",
        "  plt.show()\r\n"
      ],
      "execution_count": 14,
      "outputs": [
        {
          "output_type": "stream",
          "text": [
            "2\n"
          ],
          "name": "stdout"
        },
        {
          "output_type": "display_data",
          "data": {
            "image/png": "[encoded data removed]",
            "text/plain": [
              "<Figure size 432x288 with 1 Axes>"
            ]
          },
          "metadata": {
            "tags": [],
            "needs_background": "light"
          }
        },
        {
          "output_type": "stream",
          "text": [
            "0\n"
          ],
          "name": "stdout"
        },
        {
          "output_type": "display_data",
          "data": {
            "image/png": "[encoded data removed]",
            "text/plain": [
              "<Figure size 432x288 with 1 Axes>"
            ]
          },
          "metadata": {
            "tags": [],
            "needs_background": "light"
          }
        },
        {
          "output_type": "stream",
          "text": [
            "4\n"
          ],
          "name": "stdout"
        },
        {
          "output_type": "display_data",
          "data": {
            "image/png": "[encoded data removed]",
            "text/plain": [
              "<Figure size 432x288 with 1 Axes>"
            ]
          },
          "metadata": {
            "tags": [],
            "needs_background": "light"
          }
        },
        {
          "output_type": "stream",
          "text": [
            "8\n"
          ],
          "name": "stdout"
        },
        {
          "output_type": "display_data",
          "data": {
            "image/png": "[encoded data removed]",
            "text/plain": [
              "<Figure size 432x288 with 1 Axes>"
            ]
          },
          "metadata": {
            "tags": [],
            "needs_background": "light"
          }
        },
        {
          "output_type": "stream",
          "text": [
            "7\n"
          ],
          "name": "stdout"
        },
        {
          "output_type": "display_data",
          "data": {
            "image/png": "[encoded data removed]",
            "text/plain": [
              "<Figure size 432x288 with 1 Axes>"
            ]
          },
          "metadata": {
            "tags": [],
            "needs_background": "light"
          }
        },
        {
          "output_type": "stream",
          "text": [
            "6\n"
          ],
          "name": "stdout"
        },
        {
          "output_type": "display_data",
          "data": {
            "image/png": "[encoded data removed]",
            "text/plain": [
              "<Figure size 432x288 with 1 Axes>"
            ]
          },
          "metadata": {
            "tags": [],
            "needs_background": "light"
          }
        },
        {
          "output_type": "stream",
          "text": [
            "0\n"
          ],
          "name": "stdout"
        },
        {
          "output_type": "display_data",
          "data": {
            "image/png": "[encoded data removed]",
            "text/plain": [
              "<Figure size 432x288 with 1 Axes>"
            ]
          },
          "metadata": {
            "tags": [],
            "needs_background": "light"
          }
        },
        {
          "output_type": "stream",
          "text": [
            "6\n"
          ],
          "name": "stdout"
        },
        {
          "output_type": "display_data",
          "data": {
            "image/png": "[encoded data removed]",
            "text/plain": [
              "<Figure size 432x288 with 1 Axes>"
            ]
          },
          "metadata": {
            "tags": [],
            "needs_background": "light"
          }
        },
        {
          "output_type": "stream",
          "text": [
            "3\n"
          ],
          "name": "stdout"
        },
        {
          "output_type": "display_data",
          "data": {
            "image/png": "[encoded data removed]",
            "text/plain": [
              "<Figure size 432x288 with 1 Axes>"
            ]
          },
          "metadata": {
            "tags": [],
            "needs_background": "light"
          }
        },
        {
          "output_type": "stream",
          "text": [
            "1\n"
          ],
          "name": "stdout"
        },
        {
          "output_type": "display_data",
          "data": {
            "image/png": "[encoded data removed]",
            "text/plain": [
              "<Figure size 432x288 with 1 Axes>"
            ]
          },
          "metadata": {
            "tags": [],
            "needs_background": "light"
          }
        }
      ]
    },
    {
      "cell_type": "code",
      "metadata": {
        "id": "31LrdKqBdEBR"
      },
      "source": [
        "print(np.argmax(predictions))"
      ],
      "execution_count": null,
      "outputs": []
    },
    {
      "cell_type": "code",
      "metadata": {
        "id": "xezoghp_TFrp"
      },
      "source": [
        "frame = pd.DataFrame(history.history)\r\n",
        "acc_plot = frame.plot(y=\"accuracy\", title=\"Accuracy vs Epochs\", legend=False)\r\n",
        "acc_plot.set(xlabel=\"Epochs\", ylabel=\"Accuracy\")\r\n",
        "acc_plot = frame.plot(y=\"loss\", title = \"Loss vs Epochs\",legend=False)\r\n",
        "acc_plot.set(xlabel=\"Epochs\", ylabel=\"Loss\")\r\n",
        "\r\n"
      ],
      "execution_count": null,
      "outputs": []
    },
    {
      "cell_type": "code",
      "metadata": {
        "id": "rXEj7D3CW3kq"
      },
      "source": [
        "(test_loss, test_accuracy) = model.evaluate(ds_test)\r\n",
        "print(f\"Test loss: {test_loss}\")\r\n",
        "print(f\"Test accuracy: {test_accuracy}\")"
      ],
      "execution_count": null,
      "outputs": []
    },
    {
      "cell_type": "code",
      "metadata": {
        "id": "9Ivku0OdXk1v"
      },
      "source": [
        ""
      ],
      "execution_count": null,
      "outputs": []
    }
  ]
}