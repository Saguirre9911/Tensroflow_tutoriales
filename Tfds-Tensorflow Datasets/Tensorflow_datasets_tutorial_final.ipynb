{
  "nbformat": 4,
  "nbformat_minor": 0,
  "metadata": {
    "colab": {
      "name": "Tensorflow_datasets_tutorial_final.ipynb",
      "provenance": [],
      "authorship_tag": "ABX9TyMj0owroRNMvEMhleCHpZDC",
      "include_colab_link": true
    },
    "kernelspec": {
      "name": "python3",
      "display_name": "Python 3"
    },
    "widgets": {
      "application/vnd.jupyter.widget-state+json": {
        "af16969a1f5145e185fb242ea3701f69": {
          "model_module": "@jupyter-widgets/controls",
          "model_name": "HBoxModel",
          "state": {
            "_view_name": "HBoxView",
            "_dom_classes": [],
            "_model_name": "HBoxModel",
            "_view_module": "@jupyter-widgets/controls",
            "_model_module_version": "1.5.0",
            "_view_count": null,
            "_view_module_version": "1.5.0",
            "box_style": "",
            "layout": "IPY_MODEL_d037bbf7ef3a4e3a82d6eab7675ab28e",
            "_model_module": "@jupyter-widgets/controls",
            "children": [
              "IPY_MODEL_29d364b29c004612bb868ce9eef5c718",
              "IPY_MODEL_e0c515b113ff4e8b9799920106e77661"
            ]
          }
        },
        "d037bbf7ef3a4e3a82d6eab7675ab28e": {
          "model_module": "@jupyter-widgets/base",
          "model_name": "LayoutModel",
          "state": {
            "_view_name": "LayoutView",
            "grid_template_rows": null,
            "right": null,
            "justify_content": null,
            "_view_module": "@jupyter-widgets/base",
            "overflow": null,
            "_model_module_version": "1.2.0",
            "_view_count": null,
            "flex_flow": null,
            "width": null,
            "min_width": null,
            "border": null,
            "align_items": null,
            "bottom": null,
            "_model_module": "@jupyter-widgets/base",
            "top": null,
            "grid_column": null,
            "overflow_y": null,
            "overflow_x": null,
            "grid_auto_flow": null,
            "grid_area": null,
            "grid_template_columns": null,
            "flex": null,
            "_model_name": "LayoutModel",
            "justify_items": null,
            "grid_row": null,
            "max_height": null,
            "align_content": null,
            "visibility": null,
            "align_self": null,
            "height": null,
            "min_height": null,
            "padding": null,
            "grid_auto_rows": null,
            "grid_gap": null,
            "max_width": null,
            "order": null,
            "_view_module_version": "1.2.0",
            "grid_template_areas": null,
            "object_position": null,
            "object_fit": null,
            "grid_auto_columns": null,
            "margin": null,
            "display": null,
            "left": null
          }
        },
        "29d364b29c004612bb868ce9eef5c718": {
          "model_module": "@jupyter-widgets/controls",
          "model_name": "FloatProgressModel",
          "state": {
            "_view_name": "ProgressView",
            "style": "IPY_MODEL_0827362489064892a9d9bd1ef36362ef",
            "_dom_classes": [],
            "description": "Dl Completed...: 100%",
            "_model_name": "FloatProgressModel",
            "bar_style": "success",
            "max": 4,
            "_view_module": "@jupyter-widgets/controls",
            "_model_module_version": "1.5.0",
            "value": 4,
            "_view_count": null,
            "_view_module_version": "1.5.0",
            "orientation": "horizontal",
            "min": 0,
            "description_tooltip": null,
            "_model_module": "@jupyter-widgets/controls",
            "layout": "IPY_MODEL_db6daffa6c904474a6a8853053cdffaf"
          }
        },
        "e0c515b113ff4e8b9799920106e77661": {
          "model_module": "@jupyter-widgets/controls",
          "model_name": "HTMLModel",
          "state": {
            "_view_name": "HTMLView",
            "style": "IPY_MODEL_cf04aee99b034be5bc7400534e0c9beb",
            "_dom_classes": [],
            "description": "",
            "_model_name": "HTMLModel",
            "placeholder": "​",
            "_view_module": "@jupyter-widgets/controls",
            "_model_module_version": "1.5.0",
            "value": " 4/4 [00:45&lt;00:00, 11.29s/ file]",
            "_view_count": null,
            "_view_module_version": "1.5.0",
            "description_tooltip": null,
            "_model_module": "@jupyter-widgets/controls",
            "layout": "IPY_MODEL_d034258db8bc4847b3fcf76014d58d8d"
          }
        },
        "0827362489064892a9d9bd1ef36362ef": {
          "model_module": "@jupyter-widgets/controls",
          "model_name": "ProgressStyleModel",
          "state": {
            "_view_name": "StyleView",
            "_model_name": "ProgressStyleModel",
            "description_width": "initial",
            "_view_module": "@jupyter-widgets/base",
            "_model_module_version": "1.5.0",
            "_view_count": null,
            "_view_module_version": "1.2.0",
            "bar_color": null,
            "_model_module": "@jupyter-widgets/controls"
          }
        },
        "db6daffa6c904474a6a8853053cdffaf": {
          "model_module": "@jupyter-widgets/base",
          "model_name": "LayoutModel",
          "state": {
            "_view_name": "LayoutView",
            "grid_template_rows": null,
            "right": null,
            "justify_content": null,
            "_view_module": "@jupyter-widgets/base",
            "overflow": null,
            "_model_module_version": "1.2.0",
            "_view_count": null,
            "flex_flow": null,
            "width": null,
            "min_width": null,
            "border": null,
            "align_items": null,
            "bottom": null,
            "_model_module": "@jupyter-widgets/base",
            "top": null,
            "grid_column": null,
            "overflow_y": null,
            "overflow_x": null,
            "grid_auto_flow": null,
            "grid_area": null,
            "grid_template_columns": null,
            "flex": null,
            "_model_name": "LayoutModel",
            "justify_items": null,
            "grid_row": null,
            "max_height": null,
            "align_content": null,
            "visibility": null,
            "align_self": null,
            "height": null,
            "min_height": null,
            "padding": null,
            "grid_auto_rows": null,
            "grid_gap": null,
            "max_width": null,
            "order": null,
            "_view_module_version": "1.2.0",
            "grid_template_areas": null,
            "object_position": null,
            "object_fit": null,
            "grid_auto_columns": null,
            "margin": null,
            "display": null,
            "left": null
          }
        },
        "cf04aee99b034be5bc7400534e0c9beb": {
          "model_module": "@jupyter-widgets/controls",
          "model_name": "DescriptionStyleModel",
          "state": {
            "_view_name": "StyleView",
            "_model_name": "DescriptionStyleModel",
            "description_width": "",
            "_view_module": "@jupyter-widgets/base",
            "_model_module_version": "1.5.0",
            "_view_count": null,
            "_view_module_version": "1.2.0",
            "_model_module": "@jupyter-widgets/controls"
          }
        },
        "d034258db8bc4847b3fcf76014d58d8d": {
          "model_module": "@jupyter-widgets/base",
          "model_name": "LayoutModel",
          "state": {
            "_view_name": "LayoutView",
            "grid_template_rows": null,
            "right": null,
            "justify_content": null,
            "_view_module": "@jupyter-widgets/base",
            "overflow": null,
            "_model_module_version": "1.2.0",
            "_view_count": null,
            "flex_flow": null,
            "width": null,
            "min_width": null,
            "border": null,
            "align_items": null,
            "bottom": null,
            "_model_module": "@jupyter-widgets/base",
            "top": null,
            "grid_column": null,
            "overflow_y": null,
            "overflow_x": null,
            "grid_auto_flow": null,
            "grid_area": null,
            "grid_template_columns": null,
            "flex": null,
            "_model_name": "LayoutModel",
            "justify_items": null,
            "grid_row": null,
            "max_height": null,
            "align_content": null,
            "visibility": null,
            "align_self": null,
            "height": null,
            "min_height": null,
            "padding": null,
            "grid_auto_rows": null,
            "grid_gap": null,
            "max_width": null,
            "order": null,
            "_view_module_version": "1.2.0",
            "grid_template_areas": null,
            "object_position": null,
            "object_fit": null,
            "grid_auto_columns": null,
            "margin": null,
            "display": null,
            "left": null
          }
        }
      }
    }
  },
  "cells": [
    {
      "cell_type": "markdown",
      "metadata": {
        "id": "view-in-github",
        "colab_type": "text"
      },
      "source": [
        "<a href=\"https://colab.research.google.com/github/Saguirre9911/Tensroflow_tutoriales/blob/main/Tfds-Tensorflow%20Datasets/Tensorflow_datasets_tutorial_final.ipynb\" target=\"_parent\"><img src=\"https://colab.research.google.com/assets/colab-badge.svg\" alt=\"Open In Colab\"/></a>"
      ]
    },
    {
      "cell_type": "markdown",
      "metadata": {
        "id": "5BLXeEIbPVUg"
      },
      "source": [
        "# PAL INGENIERO 2021\r\n",
        "## Clasificador de imagenes tensorflow 2.*\r\n",
        "\r\n",
        "Hola a todos, en este nootebook explicaremos como crear una CNN para la clasificación de enfermedades en plantas usando el dataset plant_village que viene con tensorflow\r\n",
        "\r\n",
        "\r\n",
        "## Canal PAL INGENIERO\r\n",
        "https://www.youtube.com/channel/UCTL8_Xr6vzTmCU2h3reHgPw\r\n",
        "\r\n",
        "## Repositorio del notebook\r\n",
        "\r\n"
      ]
    },
    {
      "cell_type": "code",
      "metadata": {
        "id": "oUI3A61ZPdom"
      },
      "source": [
        "#Librerias a utilizar\r\n",
        "import tensorflow as tf\r\n",
        "import pandas as pd\r\n",
        "import numpy as np\r\n",
        "import matplotlib.pyplot as plt\r\n",
        "from tensorflow.keras.models import Sequential\r\n",
        "from tensorflow.keras.layers import Dense, Conv2D, Flatten, MaxPool2D\r\n",
        "import tensorflow_datasets as tfds\r\n",
        "from tensorflow import keras\r\n",
        "%matplotlib inline"
      ],
      "execution_count": 1,
      "outputs": []
    },
    {
      "cell_type": "code",
      "metadata": {
        "colab": {
          "base_uri": "https://localhost:8080/",
          "height": 610,
          "referenced_widgets": [
            "af16969a1f5145e185fb242ea3701f69",
            "d037bbf7ef3a4e3a82d6eab7675ab28e",
            "29d364b29c004612bb868ce9eef5c718",
            "e0c515b113ff4e8b9799920106e77661",
            "0827362489064892a9d9bd1ef36362ef",
            "db6daffa6c904474a6a8853053cdffaf",
            "cf04aee99b034be5bc7400534e0c9beb",
            "d034258db8bc4847b3fcf76014d58d8d"
          ]
        },
        "id": "5XS8gjeMPfFo",
        "outputId": "165d9741-2633-4ff3-a34b-099966267e06"
      },
      "source": [
        "(ds_train,ds_test), ds_info = tfds.load(\r\n",
        "    'mnist',#Nombre del set de datos\r\n",
        "     split=['train','test'], #las opciones pueden variar, algunos tienen solo trainset, otros train, val y test set\r\n",
        "      with_info=True, #Guardamos en una variable la información del dataset\r\n",
        "      as_supervised=True, #generamos el dataset en tuplas, (imagen,etiqueta)\r\n",
        "      shuffle_files=True) #Revolvemos el dataset\r\n",
        "ds_info"
      ],
      "execution_count": 3,
      "outputs": [
        {
          "output_type": "stream",
          "text": [
            "\u001b[1mDownloading and preparing dataset mnist/3.0.1 (download: 11.06 MiB, generated: 21.00 MiB, total: 32.06 MiB) to /root/tensorflow_datasets/mnist/3.0.1...\u001b[0m\n"
          ],
          "name": "stdout"
        },
        {
          "output_type": "stream",
          "text": [
            "WARNING:absl:Dataset mnist is hosted on GCS. It will automatically be downloaded to your\n",
            "local data directory. If you'd instead prefer to read directly from our public\n",
            "GCS bucket (recommended if you're running on GCP), you can instead pass\n",
            "`try_gcs=True` to `tfds.load` or set `data_dir=gs://tfds-data/datasets`.\n",
            "\n"
          ],
          "name": "stderr"
        },
        {
          "output_type": "display_data",
          "data": {
            "application/vnd.jupyter.widget-view+json": {
              "model_id": "af16969a1f5145e185fb242ea3701f69",
              "version_minor": 0,
              "version_major": 2
            },
            "text/plain": [
              "HBox(children=(FloatProgress(value=0.0, description='Dl Completed...', max=4.0, style=ProgressStyle(descriptio…"
            ]
          },
          "metadata": {
            "tags": []
          }
        },
        {
          "output_type": "stream",
          "text": [
            "\n",
            "\n",
            "\u001b[1mDataset mnist downloaded and prepared to /root/tensorflow_datasets/mnist/3.0.1. Subsequent calls will reuse this data.\u001b[0m\n"
          ],
          "name": "stdout"
        },
        {
          "output_type": "execute_result",
          "data": {
            "text/plain": [
              "tfds.core.DatasetInfo(\n",
              "    name='mnist',\n",
              "    version=3.0.1,\n",
              "    description='The MNIST database of handwritten digits.',\n",
              "    homepage='http://yann.lecun.com/exdb/mnist/',\n",
              "    features=FeaturesDict({\n",
              "        'image': Image(shape=(28, 28, 1), dtype=tf.uint8),\n",
              "        'label': ClassLabel(shape=(), dtype=tf.int64, num_classes=10),\n",
              "    }),\n",
              "    total_num_examples=70000,\n",
              "    splits={\n",
              "        'test': 10000,\n",
              "        'train': 60000,\n",
              "    },\n",
              "    supervised_keys=('image', 'label'),\n",
              "    citation=\"\"\"@article{lecun2010mnist,\n",
              "      title={MNIST handwritten digit database},\n",
              "      author={LeCun, Yann and Cortes, Corinna and Burges, CJ},\n",
              "      journal={ATT Labs [Online]. Available: http://yann.lecun.com/exdb/mnist},\n",
              "      volume={2},\n",
              "      year={2010}\n",
              "    }\"\"\",\n",
              "    redistribution_info=,\n",
              ")"
            ]
          },
          "metadata": {
            "tags": []
          },
          "execution_count": 3
        }
      ]
    },
    {
      "cell_type": "code",
      "metadata": {
        "id": "0F_KapVePknH"
      },
      "source": [
        "def normalizar_datos(image, label):\r\n",
        "  \"\"\"Normalizes images: `uint8` -> `float32`.\"\"\"\r\n",
        "  return tf.cast(image, tf.float32) / 255., label\r\n",
        "BATCH_SIZE=64\r\n",
        "ds_train = ds_train.map(normalizar_datos)# Normalizar los datos, pasa de 0-255 a 0-1\r\n",
        "ds_train = ds_train.cache()#Cacheamos el set de datos para que las iteraciones tomen menos tiempo\r\n",
        "ds_train = ds_train.shuffle(ds_info.splits['train'].num_examples)#Se mezclan aleatoriamente, el buffer_size debe ser de la cantidad de datos del dataset para que sea efectivo\r\n",
        "ds_train = ds_train.batch(BATCH_SIZE)# agrupamos en lotes de 64 el dataset #IMPORTANTE\r\n",
        "ds_train = ds_train.prefetch(tf.data.experimental.AUTOTUNE) #PRECARGAMOS EL DATASET PARA SU USO #MÁS IMPORTANTE, sin esto, no se podrá usar el dataset\r\n"
      ],
      "execution_count": 4,
      "outputs": []
    },
    {
      "cell_type": "code",
      "metadata": {
        "colab": {
          "base_uri": "https://localhost:8080/"
        },
        "id": "8ZI-umD5RvKX",
        "outputId": "04243eca-81c2-4ddd-cf76-93ea4b2417ea"
      },
      "source": [
        "ds = tfds.load('mnist', split='train')\r\n",
        "ds = ds.take(1)  # tomamos solo un dato\r\n",
        "\r\n",
        "for example in ds:  # example es `{'image': tf.Tensor, 'label': tf.Tensor}`\r\n",
        "  print(list(example.keys()))\r\n",
        "  image = example[\"image\"]\r\n",
        "  input_shape= image.shape\r\n",
        "  label = example[\"label\"]\r\n",
        "  print(input_shape, label)\r\n"
      ],
      "execution_count": 5,
      "outputs": [
        {
          "output_type": "stream",
          "text": [
            "['image', 'label']\n",
            "(28, 28, 1) tf.Tensor(4, shape=(), dtype=int64)\n"
          ],
          "name": "stdout"
        }
      ]
    },
    {
      "cell_type": "code",
      "metadata": {
        "colab": {
          "base_uri": "https://localhost:8080/"
        },
        "id": "0e5pZcVrRC5S",
        "outputId": "d0ebef32-9046-4131-c80a-e939bab34ed4"
      },
      "source": [
        "def get_model(input_shape):\r\n",
        "    \"\"\"\r\n",
        "    Creamos una CNN por medio de la API Sequencial, en este link se puede encontrar\r\n",
        "    3 tutoriales hechos por nosotros al respecto, donde vemos la creación del modelo\r\n",
        "    el método compile y el método fit https://www.youtube.com/watch?v=dMHxECuxgyg&list=PLeu9kmTazPwybTtzTe_mBH18BbIELn083\r\n",
        "    \r\n",
        "    \"\"\"\r\n",
        "\r\n",
        "    model = Sequential([\r\n",
        "                    tf.keras.Input(input_shape),\r\n",
        "                    Conv2D(filters=8, kernel_size=3, padding='same', activation= 'relu'),\r\n",
        "                    MaxPool2D((2,2)),\r\n",
        "                    Flatten(),\r\n",
        "                    Dense(64, activation='relu'),\r\n",
        "                    Dense(64, activation='relu'),\r\n",
        "                    Dense(10, activation='softmax')\r\n",
        "\r\n",
        "    ])\r\n",
        "    return model\r\n",
        "model = get_model(input_shape)\r\n",
        "model.summary()"
      ],
      "execution_count": 6,
      "outputs": [
        {
          "output_type": "stream",
          "text": [
            "Model: \"sequential\"\n",
            "_________________________________________________________________\n",
            "Layer (type)                 Output Shape              Param #   \n",
            "=================================================================\n",
            "conv2d (Conv2D)              (None, 28, 28, 8)         80        \n",
            "_________________________________________________________________\n",
            "max_pooling2d (MaxPooling2D) (None, 14, 14, 8)         0         \n",
            "_________________________________________________________________\n",
            "flatten (Flatten)            (None, 1568)              0         \n",
            "_________________________________________________________________\n",
            "dense (Dense)                (None, 64)                100416    \n",
            "_________________________________________________________________\n",
            "dense_1 (Dense)              (None, 64)                4160      \n",
            "_________________________________________________________________\n",
            "dense_2 (Dense)              (None, 10)                650       \n",
            "=================================================================\n",
            "Total params: 105,306\n",
            "Trainable params: 105,306\n",
            "Non-trainable params: 0\n",
            "_________________________________________________________________\n"
          ],
          "name": "stdout"
        }
      ]
    },
    {
      "cell_type": "code",
      "metadata": {
        "id": "V9tg_JL4RuJ6"
      },
      "source": [
        "def compile_model(model):\r\n",
        "    \"\"\"\r\n",
        "    Compilamos el modelo con el método compile, en este link se puede encontrar\r\n",
        "    3 tutoriales hechos por nosotros al respecto, donde vemos la creación del modelo\r\n",
        "    el método compile y el método fit https://www.youtube.com/watch?v=dMHxECuxgyg&list=PLeu9kmTazPwybTtzTe_mBH18BbIELn083\r\n",
        "    \"\"\"\r\n",
        "    model.compile(\r\n",
        "        optimizer='adam',\r\n",
        "        loss = keras.losses.SparseCategoricalCrossentropy(),\r\n",
        "        metrics=['accuracy']\r\n",
        "    )\r\n",
        "compile_model(model)"
      ],
      "execution_count": 7,
      "outputs": []
    },
    {
      "cell_type": "code",
      "metadata": {
        "colab": {
          "base_uri": "https://localhost:8080/"
        },
        "id": "4bxicm1kSmR1",
        "outputId": "3ca34891-4676-4d7d-e687-3304f9548e5a"
      },
      "source": [
        "def train_model(model, train_dataset):\r\n",
        "    \"\"\"\r\n",
        "    Entrenamos el modelo con el método fit, en este link se puede encontrar\r\n",
        "    3 tutoriales hechos por nosotros al respecto, donde vemos la creación del modelo\r\n",
        "    el método compile y el método fit https://www.youtube.com/watch?v=dMHxECuxgyg&list=PLeu9kmTazPwybTtzTe_mBH18BbIELn083\r\n",
        "    \"\"\"\r\n",
        "    history = model.fit(train_dataset, epochs=5, batch_size=BATCH_SIZE)\r\n",
        "    return history\r\n",
        "\r\n",
        "history = model.fit(ds_train, epochs=5,verbose=2)"
      ],
      "execution_count": 8,
      "outputs": [
        {
          "output_type": "stream",
          "text": [
            "Epoch 1/5\n",
            "938/938 - 21s - loss: 0.2827 - accuracy: 0.9173\n",
            "Epoch 2/5\n",
            "938/938 - 15s - loss: 0.1067 - accuracy: 0.9672\n",
            "Epoch 3/5\n",
            "938/938 - 15s - loss: 0.0704 - accuracy: 0.9780\n",
            "Epoch 4/5\n",
            "938/938 - 15s - loss: 0.0543 - accuracy: 0.9830\n",
            "Epoch 5/5\n",
            "938/938 - 15s - loss: 0.0419 - accuracy: 0.9867\n"
          ],
          "name": "stdout"
        }
      ]
    },
    {
      "cell_type": "code",
      "metadata": {
        "colab": {
          "base_uri": "https://localhost:8080/",
          "height": 1000
        },
        "id": "wcqHb_x5SvAP",
        "outputId": "6af7c1ef-9e44-49f4-af68-6c9daa6c9c46"
      },
      "source": [
        "ds_test = ds_test.take(10)\r\n",
        "\r\n",
        "for example in ds_test:  # example is `{'image': tf.Tensor, 'label': tf.Tensor}`\r\n",
        "  image = example[0]\r\n",
        "  label = example[1]\r\n",
        "  print(image.shape, label)\r\n",
        "  predictions = model.predict(image[np.newaxis, ...])\r\n",
        "  plt.imshow(tf.squeeze(image))\r\n",
        "  plt.show()\r\n",
        "print(predictions)"
      ],
      "execution_count": 11,
      "outputs": [
        {
          "output_type": "stream",
          "text": [
            "(28, 28, 1) tf.Tensor(2, shape=(), dtype=int64)\n"
          ],
          "name": "stdout"
        },
        {
          "output_type": "display_data",
          "data": {
            "image/png": "[encoded data removed]",
            "text/plain": [
              "<Figure size 432x288 with 1 Axes>"
            ]
          },
          "metadata": {
            "tags": [],
            "needs_background": "light"
          }
        },
        {
          "output_type": "stream",
          "text": [
            "(28, 28, 1) tf.Tensor(0, shape=(), dtype=int64)\n"
          ],
          "name": "stdout"
        },
        {
          "output_type": "display_data",
          "data": {
            "image/png": "[encoded data removed]",
            "text/plain": [
              "<Figure size 432x288 with 1 Axes>"
            ]
          },
          "metadata": {
            "tags": [],
            "needs_background": "light"
          }
        },
        {
          "output_type": "stream",
          "text": [
            "(28, 28, 1) tf.Tensor(4, shape=(), dtype=int64)\n"
          ],
          "name": "stdout"
        },
        {
          "output_type": "display_data",
          "data": {
            "image/png": "[encoded data removed]",
            "text/plain": [
              "<Figure size 432x288 with 1 Axes>"
            ]
          },
          "metadata": {
            "tags": [],
            "needs_background": "light"
          }
        },
        {
          "output_type": "stream",
          "text": [
            "(28, 28, 1) tf.Tensor(8, shape=(), dtype=int64)\n"
          ],
          "name": "stdout"
        },
        {
          "output_type": "display_data",
          "data": {
            "image/png": "[encoded data removed]",
            "text/plain": [
              "<Figure size 432x288 with 1 Axes>"
            ]
          },
          "metadata": {
            "tags": [],
            "needs_background": "light"
          }
        },
        {
          "output_type": "stream",
          "text": [
            "(28, 28, 1) tf.Tensor(7, shape=(), dtype=int64)\n"
          ],
          "name": "stdout"
        },
        {
          "output_type": "display_data",
          "data": {
            "image/png": "[encoded data removed]",
            "text/plain": [
              "<Figure size 432x288 with 1 Axes>"
            ]
          },
          "metadata": {
            "tags": [],
            "needs_background": "light"
          }
        },
        {
          "output_type": "stream",
          "text": [
            "(28, 28, 1) tf.Tensor(6, shape=(), dtype=int64)\n"
          ],
          "name": "stdout"
        },
        {
          "output_type": "display_data",
          "data": {
            "image/png": "[encoded data removed]",
            "text/plain": [
              "<Figure size 432x288 with 1 Axes>"
            ]
          },
          "metadata": {
            "tags": [],
            "needs_background": "light"
          }
        },
        {
          "output_type": "stream",
          "text": [
            "(28, 28, 1) tf.Tensor(0, shape=(), dtype=int64)\n"
          ],
          "name": "stdout"
        },
        {
          "output_type": "display_data",
          "data": {
            "image/png": "[encoded data removed]",
            "text/plain": [
              "<Figure size 432x288 with 1 Axes>"
            ]
          },
          "metadata": {
            "tags": [],
            "needs_background": "light"
          }
        },
        {
          "output_type": "stream",
          "text": [
            "(28, 28, 1) tf.Tensor(6, shape=(), dtype=int64)\n"
          ],
          "name": "stdout"
        },
        {
          "output_type": "display_data",
          "data": {
            "image/png": "[encoded data removed]",
            "text/plain": [
              "<Figure size 432x288 with 1 Axes>"
            ]
          },
          "metadata": {
            "tags": [],
            "needs_background": "light"
          }
        },
        {
          "output_type": "stream",
          "text": [
            "(28, 28, 1) tf.Tensor(3, shape=(), dtype=int64)\n"
          ],
          "name": "stdout"
        },
        {
          "output_type": "display_data",
          "data": {
            "image/png": "[encoded data removed]",
            "text/plain": [
              "<Figure size 432x288 with 1 Axes>"
            ]
          },
          "metadata": {
            "tags": [],
            "needs_background": "light"
          }
        },
        {
          "output_type": "stream",
          "text": [
            "(28, 28, 1) tf.Tensor(1, shape=(), dtype=int64)\n"
          ],
          "name": "stdout"
        },
        {
          "output_type": "display_data",
          "data": {
            "image/png": "[encoded data removed]",
            "text/plain": [
              "<Figure size 432x288 with 1 Axes>"
            ]
          },
          "metadata": {
            "tags": [],
            "needs_background": "light"
          }
        },
        {
          "output_type": "stream",
          "text": [
            "[[0. 1. 0. 0. 0. 0. 0. 0. 0. 0.]]\n"
          ],
          "name": "stdout"
        }
      ]
    },
    {
      "cell_type": "code",
      "metadata": {
        "id": "xezoghp_TFrp"
      },
      "source": [
        ""
      ],
      "execution_count": null,
      "outputs": []
    }
  ]
}